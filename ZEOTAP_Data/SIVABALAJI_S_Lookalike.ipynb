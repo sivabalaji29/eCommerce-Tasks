{
 "cells": [
  {
   "cell_type": "code",
   "execution_count": 17,
   "metadata": {},
   "outputs": [],
   "source": [
    "from sklearn.feature_extraction.text import TfidfVectorizer\n",
    "from sklearn.metrics.pairwise import cosine_similarity\n",
    "import numpy as np\n",
    "import pandas as pd\n",
    "import matplotlib.pyplot as plt"
   ]
  },
  {
   "cell_type": "code",
   "execution_count": 18,
   "metadata": {},
   "outputs": [],
   "source": [
    "\n",
    "transactions_df = pd.read_csv(r'C:\\Users\\SIVABALAJI S\\Desktop\\ZEOTAP_Data\\Transactions.csv')\n",
    "products_df = pd.read_csv(r'C:\\Users\\SIVABALAJI S\\Desktop\\ZEOTAP_Data\\Products (2).csv')\n",
    "customers_df = pd.read_csv(r'C:\\Users\\SIVABALAJI S\\Desktop\\ZEOTAP_Data\\Customers.csv')\n"
   ]
  },
  {
   "cell_type": "code",
   "execution_count": 19,
   "metadata": {},
   "outputs": [
    {
     "name": "stdout",
     "output_type": "stream",
     "text": [
      "Transactions Dataset:\n",
      "  TransactionID CustomerID ProductID      TransactionDate  Quantity  \\\n",
      "0        T00001      C0199      P067  2024-08-25 12:38:23         1   \n",
      "1        T00112      C0146      P067  2024-05-27 22:23:54         1   \n",
      "2        T00166      C0127      P067  2024-04-25 07:38:55         1   \n",
      "3        T00272      C0087      P067  2024-03-26 22:55:37         2   \n",
      "4        T00363      C0070      P067  2024-03-21 15:10:10         3   \n",
      "\n",
      "   TotalValue   Price  \n",
      "0      300.68  300.68  \n",
      "1      300.68  300.68  \n",
      "2      300.68  300.68  \n",
      "3      601.36  300.68  \n",
      "4      902.04  300.68  \n",
      "\n",
      "Products Dataset:\n",
      "  ProductID              ProductName     Category   Price\n",
      "0      P001     ActiveWear Biography        Books  169.30\n",
      "1      P002    ActiveWear Smartwatch  Electronics  346.30\n",
      "2      P003  ComfortLiving Biography        Books   44.12\n",
      "3      P004            BookWorld Rug   Home Decor   95.69\n",
      "4      P005          TechPro T-Shirt     Clothing  429.31\n",
      "\n",
      "Customers Dataset:\n",
      "  CustomerID        CustomerName         Region  SignupDate\n",
      "0      C0001    Lawrence Carroll  South America  2022-07-10\n",
      "1      C0002      Elizabeth Lutz           Asia  2022-02-13\n",
      "2      C0003      Michael Rivera  South America  2024-03-07\n",
      "3      C0004  Kathleen Rodriguez  South America  2022-10-09\n",
      "4      C0005         Laura Weber           Asia  2022-08-15\n"
     ]
    }
   ],
   "source": [
    "\n",
    "print(\"Transactions Dataset:\")\n",
    "print(transactions_df.head())\n",
    "print(\"\\nProducts Dataset:\")\n",
    "print(products_df.head())\n",
    "print(\"\\nCustomers Dataset:\")\n",
    "print(customers_df.head())\n"
   ]
  },
  {
   "cell_type": "code",
   "execution_count": 20,
   "metadata": {},
   "outputs": [],
   "source": [
    "\n",
    "transactions_with_products = transactions_df.merge(products_df, on=\"ProductID\", how=\"left\")\n",
    "\n"
   ]
  },
  {
   "cell_type": "code",
   "execution_count": 21,
   "metadata": {},
   "outputs": [],
   "source": [
    "\n",
    "customer_transactions = transactions_with_products.groupby(\"CustomerID\").agg({\n",
    "    \"Category\": lambda x: \" \".join(x),  \n",
    "    \"TotalValue\": \"sum\"  \n",
    "}).reset_index()"
   ]
  },
  {
   "cell_type": "code",
   "execution_count": 22,
   "metadata": {},
   "outputs": [],
   "source": [
    "\n",
    "customer_profile = customers_df.merge(customer_transactions, on=\"CustomerID\", how=\"left\")\n",
    "\n"
   ]
  },
  {
   "cell_type": "code",
   "execution_count": 23,
   "metadata": {},
   "outputs": [],
   "source": [
    "\n",
    "customer_profile[\"Category\"] = customer_profile[\"Category\"].fillna(\"\")\n",
    "customer_profile[\"TotalValue\"] = customer_profile[\"TotalValue\"].fillna(0)\n",
    "\n"
   ]
  },
  {
   "cell_type": "code",
   "execution_count": 24,
   "metadata": {},
   "outputs": [],
   "source": [
    "\n",
    "tfidf = TfidfVectorizer()\n",
    "customer_vectors = tfidf.fit_transform(\n",
    "    customer_profile[\"Region\"] + \" \" + customer_profile[\"Category\"]\n",
    ")"
   ]
  },
  {
   "cell_type": "code",
   "execution_count": 25,
   "metadata": {},
   "outputs": [],
   "source": [
    "\n",
    "total_value_normalized = (customer_profile[\"TotalValue\"].values.reshape(-1, 1) - \n",
    "                          np.min(customer_profile[\"TotalValue\"])) / \\\n",
    "                         (np.max(customer_profile[\"TotalValue\"]) - \n",
    "                          np.min(customer_profile[\"TotalValue\"]))\n",
    "feature_matrix = np.hstack((customer_vectors.toarray(), total_value_normalized))"
   ]
  },
  {
   "cell_type": "code",
   "execution_count": 26,
   "metadata": {},
   "outputs": [],
   "source": [
    "\n",
    "similarities = cosine_similarity(feature_matrix)"
   ]
  },
  {
   "cell_type": "code",
   "execution_count": 27,
   "metadata": {},
   "outputs": [],
   "source": [
    "\n",
    "top_20_customers = customer_profile[customer_profile[\"CustomerID\"].isin([f\"C{str(i).zfill(4)}\" for i in range(1, 21)])]\n",
    "\n"
   ]
  },
  {
   "cell_type": "code",
   "execution_count": 28,
   "metadata": {},
   "outputs": [],
   "source": [
    "lookalikes = {}\n",
    "for idx, cust_id in enumerate(top_20_customers[\"CustomerID\"]):\n",
    "    similar_indices = np.argsort(similarities[idx])[::-1][1:4]  \n",
    "    similar_customers = [(customer_profile.iloc[i][\"CustomerID\"], similarities[idx][i]) for i in similar_indices]\n",
    "    lookalikes[cust_id] = similar_customers\n",
    "\n"
   ]
  },
  {
   "cell_type": "code",
   "execution_count": 29,
   "metadata": {},
   "outputs": [],
   "source": [
    "\n",
    "lookalike_data = [\n",
    "    {\"cust_id\": cust_id, \"lookalikes\": [{\"cust_id\": pair[0], \"score\": pair[1]} for pair in pairs]}\n",
    "    for cust_id, pairs in lookalikes.items()\n",
    "]"
   ]
  },
  {
   "cell_type": "code",
   "execution_count": 30,
   "metadata": {},
   "outputs": [],
   "source": [
    "\n",
    "lookalike_df = pd.DataFrame({\n",
    "    \"cust_id\": [item[\"cust_id\"] for item in lookalike_data],\n",
    "    \"lookalike_data\": [item[\"lookalikes\"] for item in lookalike_data]\n",
    "})"
   ]
  },
  {
   "cell_type": "code",
   "execution_count": 31,
   "metadata": {},
   "outputs": [
    {
     "data": {
      "text/plain": [
       "'C:\\\\Users\\\\SIVABALAJI S\\\\Desktop\\\\ZEOTAP_Data\\\\SIVABALAJI_S_Lookalike.csv'"
      ]
     },
     "execution_count": 31,
     "metadata": {},
     "output_type": "execute_result"
    }
   ],
   "source": [
    "\n",
    "\n",
    "output_file = r\"C:\\Users\\SIVABALAJI S\\Desktop\\ZEOTAP_Data\\SIVABALAJI_S_Lookalike.csv\"\n",
    "lookalike_df.to_csv(output_file, index=False)\n",
    "\n",
    "output_file\n"
   ]
  },
  {
   "cell_type": "code",
   "execution_count": 32,
   "metadata": {},
   "outputs": [
    {
     "data": {
      "text/html": [
       "<div>\n",
       "<style scoped>\n",
       "    .dataframe tbody tr th:only-of-type {\n",
       "        vertical-align: middle;\n",
       "    }\n",
       "\n",
       "    .dataframe tbody tr th {\n",
       "        vertical-align: top;\n",
       "    }\n",
       "\n",
       "    .dataframe thead th {\n",
       "        text-align: right;\n",
       "    }\n",
       "</style>\n",
       "<table border=\"1\" class=\"dataframe\">\n",
       "  <thead>\n",
       "    <tr style=\"text-align: right;\">\n",
       "      <th></th>\n",
       "      <th>cust_id</th>\n",
       "      <th>lookalike_data</th>\n",
       "    </tr>\n",
       "  </thead>\n",
       "  <tbody>\n",
       "    <tr>\n",
       "      <th>0</th>\n",
       "      <td>C0001</td>\n",
       "      <td>[{'cust_id': 'C0091', 'score': 0.9463380741608...</td>\n",
       "    </tr>\n",
       "    <tr>\n",
       "      <th>1</th>\n",
       "      <td>C0002</td>\n",
       "      <td>[{'cust_id': 'C0134', 'score': 0.9796067623069...</td>\n",
       "    </tr>\n",
       "    <tr>\n",
       "      <th>2</th>\n",
       "      <td>C0003</td>\n",
       "      <td>[{'cust_id': 'C0031', 'score': 0.9979348784702...</td>\n",
       "    </tr>\n",
       "    <tr>\n",
       "      <th>3</th>\n",
       "      <td>C0004</td>\n",
       "      <td>[{'cust_id': 'C0113', 'score': 0.9761924817289...</td>\n",
       "    </tr>\n",
       "    <tr>\n",
       "      <th>4</th>\n",
       "      <td>C0005</td>\n",
       "      <td>[{'cust_id': 'C0007', 'score': 0.9988083438913...</td>\n",
       "    </tr>\n",
       "  </tbody>\n",
       "</table>\n",
       "</div>"
      ],
      "text/plain": [
       "  cust_id                                     lookalike_data\n",
       "0   C0001  [{'cust_id': 'C0091', 'score': 0.9463380741608...\n",
       "1   C0002  [{'cust_id': 'C0134', 'score': 0.9796067623069...\n",
       "2   C0003  [{'cust_id': 'C0031', 'score': 0.9979348784702...\n",
       "3   C0004  [{'cust_id': 'C0113', 'score': 0.9761924817289...\n",
       "4   C0005  [{'cust_id': 'C0007', 'score': 0.9988083438913..."
      ]
     },
     "execution_count": 32,
     "metadata": {},
     "output_type": "execute_result"
    }
   ],
   "source": [
    "\n",
    "lookalike_df.head()\n"
   ]
  }
 ],
 "metadata": {
  "kernelspec": {
   "display_name": "Python 3",
   "language": "python",
   "name": "python3"
  },
  "language_info": {
   "codemirror_mode": {
    "name": "ipython",
    "version": 3
   },
   "file_extension": ".py",
   "mimetype": "text/x-python",
   "name": "python",
   "nbconvert_exporter": "python",
   "pygments_lexer": "ipython3",
   "version": "3.11.1"
  }
 },
 "nbformat": 4,
 "nbformat_minor": 2
}
